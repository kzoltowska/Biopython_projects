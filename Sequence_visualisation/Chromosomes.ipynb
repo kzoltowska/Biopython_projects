{
 "cells": [
  {
   "cell_type": "code",
   "execution_count": 1,
   "metadata": {},
   "outputs": [],
   "source": [
    "import pandas as pd\n",
    "chromosomes=pd.read_csv(\"./data/sequence_report.tsv\", sep=\"\\t\")\n",
    "filtered=chromosomes.iloc[0:16,:]"
   ]
  },
  {
   "cell_type": "code",
   "execution_count": 2,
   "metadata": {},
   "outputs": [],
   "source": [
    "#This code creates a basic view of yeast chromosomes\n",
    "\n",
    "from reportlab.lib.units import cm\n",
    "from Bio.Graphics import BasicChromosome\n",
    "\n",
    "entries=[]\n",
    "for i in range(filtered.shape[0]):\n",
    "    entries.append((filtered[\"UCSC style name\"][i], filtered[\"Seq length\"][i]))\n",
    "\n",
    "chr_diagram = BasicChromosome.Organism()\n",
    "chr_diagram.page_size = (40 * cm, 20 * cm) \n",
    "\n",
    "lengths=[]\n",
    "for name, length in entries:\n",
    "    lengths.append(length)\n",
    "    max_len=max(lengths)\n",
    "\n",
    "\n",
    "for name, length in entries:\n",
    "    name=name.removeprefix(\"chr\")\n",
    "    cur_chromosome = BasicChromosome.Chromosome(name)\n",
    "\n",
    "    tel_len=100000\n",
    "    cur_chromosome.scale_num = max_len + 2 * tel_len\n",
    "    cur_chromosome.label_size=2\n",
    "\n",
    "    start = BasicChromosome.TelomereSegment()\n",
    "    start.scale = tel_len\n",
    "    cur_chromosome.add(start)\n",
    "\n",
    "    body = BasicChromosome.ChromosomeSegment()\n",
    "    body.scale = length\n",
    "    cur_chromosome.add(body)\n",
    "\n",
    "    end = BasicChromosome.TelomereSegment(inverted=True)\n",
    "    end.scale = tel_len\n",
    "    cur_chromosome.add(end)\n",
    "\n",
    "    chr_diagram.add(cur_chromosome)\n",
    "\n",
    "chr_diagram.draw(title=\"S_cerevisiae\", output_file=\"Chromosomes.pdf\")"
   ]
  },
  {
   "cell_type": "code",
   "execution_count": 3,
   "metadata": {},
   "outputs": [],
   "source": [
    "filenames=filtered[\"GenBank seq accession\"].to_list()\n",
    "names=filtered[\"Chromosome name\"].to_list()\n",
    "named_files=list(zip(names, filenames))"
   ]
  },
  {
   "cell_type": "code",
   "execution_count": 4,
   "metadata": {},
   "outputs": [
    {
     "name": "stderr",
     "output_type": "stream",
     "text": [
      "/home/kasia/miniconda3/envs/biopython/lib/python3.12/site-packages/Bio/Graphics/BasicChromosome.py:549: BiopythonWarning: Too many labels to avoid overlap\n",
      "  warnings.warn(\"Too many labels to avoid overlap\", BiopythonWarning)\n"
     ]
    }
   ],
   "source": [
    "#This code creates an annotated view of yeast chromosomes with labelled CDS\n",
    "\n",
    "from reportlab.lib.units import cm\n",
    "from Bio.Graphics import BasicChromosome\n",
    "from Bio import Entrez, SeqIO, GenBank\n",
    "\n",
    "entries=[]\n",
    "for i in range(filtered.shape[0]):\n",
    "    entries.append((filtered[\"UCSC style name\"][i], filtered[\"Seq length\"][i]))\n",
    "\n",
    "chr_diagram = BasicChromosome.Organism()\n",
    "chr_diagram.page_size = (40 * cm, 20 * cm) \n",
    "\n",
    "lengths=[]\n",
    "for name, length in entries:\n",
    "    lengths.append(length)\n",
    "    max_len=max(lengths)\n",
    "\n",
    "for index, (name, filename) in enumerate(named_files):\n",
    "    Entrez.email=\"k.zoltowska@oxfordalumni.org\"\n",
    "    file=Entrez.efetch(db=\"nucleotide\", id=filename, rettype=\"gb\",retmode=\"text\")\n",
    "    record = SeqIO.read(file, format=\"gb\")\n",
    "    length = len(record)\n",
    "    features = [f for f in record.features if f.type == \"CDS\"]\n",
    "    for f in features:\n",
    "        f.qualifiers[\"color\"] = [index + 2]\n",
    "\n",
    "    cur_chromosome = BasicChromosome.Chromosome(name)\n",
    "\n",
    "    tel_len=100000\n",
    "    cur_chromosome.scale_num = max_len + 2 * tel_len\n",
    "    cur_chromosome.label_size=2\n",
    "\n",
    "    start = BasicChromosome.TelomereSegment()\n",
    "    start.scale = tel_len\n",
    "    cur_chromosome.add(start)\n",
    "\n",
    "    body = BasicChromosome.AnnotatedChromosomeSegment(length, features)\n",
    "    body.scale = length\n",
    "    cur_chromosome.add(body)\n",
    "\n",
    "    end = BasicChromosome.TelomereSegment(inverted=True)\n",
    "    end.scale = tel_len\n",
    "    cur_chromosome.add(end)\n",
    "\n",
    "    chr_diagram.add(cur_chromosome)\n",
    "\n",
    "chr_diagram.draw(title=\"S.Cerevisiae\", output_file=\"Chromosomes_annotated.pdf\")\n"
   ]
  }
 ],
 "metadata": {
  "kernelspec": {
   "display_name": "biopython",
   "language": "python",
   "name": "python3"
  },
  "language_info": {
   "codemirror_mode": {
    "name": "ipython",
    "version": 3
   },
   "file_extension": ".py",
   "mimetype": "text/x-python",
   "name": "python",
   "nbconvert_exporter": "python",
   "pygments_lexer": "ipython3",
   "version": "3.12.7"
  }
 },
 "nbformat": 4,
 "nbformat_minor": 2
}

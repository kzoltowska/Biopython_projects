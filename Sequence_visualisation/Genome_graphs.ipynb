{
 "cells": [
  {
   "cell_type": "code",
   "execution_count": 14,
   "metadata": {},
   "outputs": [],
   "source": [
    "from reportlab.lib import colors\n",
    "from reportlab.lib.units import cm\n",
    "from Bio.Graphics import GenomeDiagram\n",
    "from Bio import SeqIO\n",
    "from Bio import Entrez\n",
    "#Getting data about MT from S.cerevisiae\n",
    "Entrez.email=\"k.zoltowska@oxfordalumni.org\"\n",
    "file=Entrez.efetch(id=\"KP263414.1\", db=\"nucleotide\", rettype=\"gb\", retmode=\"text\")\n",
    "record = SeqIO.read(file, \"genbank\")"
   ]
  },
  {
   "cell_type": "code",
   "execution_count": 20,
   "metadata": {},
   "outputs": [],
   "source": [
    "#Creating empty diagram to annotate features on it\n",
    "\n",
    "gd_diagram = GenomeDiagram.Diagram(\"S.cerevisiae_MT\")\n",
    "gd_track_for_features = gd_diagram.new_track(1, name=\"Annotated Features\")\n",
    "gd_feature_set = gd_track_for_features.new_set()\n",
    "\n",
    "for feature in record.features:\n",
    "    if feature.type == \"gene\":\n",
    "        color=colors.cornflowerblue\n",
    "    elif feature.type ==\"tRNA\":\n",
    "        color=colors.lightsalmon\n",
    "    elif feature.type==\"rRNA\":\n",
    "        color=colors.lightseagreen\n",
    "    else:\n",
    "        continue\n",
    "    gd_feature_set.add_feature(feature, color=color, label=True, sigil=\"ARROW\")\n",
    "\n",
    "\n",
    "gd_diagram.draw(\n",
    "    format=\"circular\",\n",
    "    circular=True,\n",
    "    pagesize=(20 * cm, 20 * cm),\n",
    "    start=0,\n",
    "    end=len(record),\n",
    "    circle_core=0.5,\n",
    ")\n",
    "\n",
    "gd_diagram.write(\"Chromosome_MT.pdf\", \"PDF\")"
   ]
  }
 ],
 "metadata": {
  "kernelspec": {
   "display_name": "biopython",
   "language": "python",
   "name": "python3"
  },
  "language_info": {
   "codemirror_mode": {
    "name": "ipython",
    "version": 3
   },
   "file_extension": ".py",
   "mimetype": "text/x-python",
   "name": "python",
   "nbconvert_exporter": "python",
   "pygments_lexer": "ipython3",
   "version": "3.12.7"
  }
 },
 "nbformat": 4,
 "nbformat_minor": 2
}
